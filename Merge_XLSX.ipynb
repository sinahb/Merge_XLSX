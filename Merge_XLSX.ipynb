{
 "cells": [
  {
   "cell_type": "code",
   "execution_count": null,
   "id": "ab6b048c-fe83-44e2-90cf-29bf1ebe4622",
   "metadata": {},
   "outputs": [],
   "source": [
    "import os\n",
    "from openpyxl import Workbook, load_workbook\n",
    "\n",
    "def read_second_row_excel_files(folder_path, output_file):\n",
    "    # ساخت ورک بوک جدید برای ذخیره کردن سطر دوم (انتخابی)\n",
    "    output_wb = Workbook()\n",
    "    output_ws = output_wb.active\n",
    "    \n",
    "    # لیست فایلهای اکسل در فولدر انتخابی\n",
    "    excel_files = [f for f in os.listdir(folder_path) if f.endswith('.xlsx')]\n",
    "    \n",
    "    row_index = 1  # شماره سطر برای نوشتن داده‌ها در فایل خروجی\n",
    "    \n",
    "    # حلقه برای تک تک فایلهای اکسل در فولدر\n",
    "    for file in excel_files:\n",
    "        file_path = os.path.join(folder_path, file)\n",
    "        try:\n",
    "            # باز کردن هر فایل اکسل\n",
    "            wb = load_workbook(file_path)\n",
    "            sheet = wb.active\n",
    "            \n",
    "            # خواندن مقدار سطر دوم و ستون های 1 تا 12 برای و اضافه کردن به فایل اکسل خروجی\n",
    "            for col_index in range(1, 13):\n",
    "                cell_value = sheet.cell(row=2, column=col_index).value\n",
    "                output_ws.cell(row=row_index, column=col_index).value = cell_value\n",
    "            \n",
    "            row_index += 1  # یک شیفت به سطر بعدی\n",
    "            \n",
    "        except Exception as e:\n",
    "            print(f\"Error reading file {file}: {e}\")\n",
    "\n",
    "    # ذخیره تغییرات در فایل خروجی\n",
    "    output_wb.save(output_file)\n",
    "\n",
    "# مسیر فولدر فایلهای اکسل ورودی\n",
    "folder_path = 'D://input'\n",
    "# مسیر فایل خروجی اکسل\n",
    "output_file_path = 'D://Final.xlsx'\n",
    "\n",
    "read_second_row_excel_files(folder_path, output_file_path)\n",
    "print(\"Task completed.\")"
   ]
  }
 ],
 "metadata": {
  "kernelspec": {
   "display_name": "Python 3 (ipykernel)",
   "language": "python",
   "name": "python3"
  },
  "language_info": {
   "codemirror_mode": {
    "name": "ipython",
    "version": 3
   },
   "file_extension": ".py",
   "mimetype": "text/x-python",
   "name": "python",
   "nbconvert_exporter": "python",
   "pygments_lexer": "ipython3",
   "version": "3.9.0"
  }
 },
 "nbformat": 4,
 "nbformat_minor": 5
}
